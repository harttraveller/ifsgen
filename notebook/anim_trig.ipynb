{
 "cells": [
  {
   "cell_type": "code",
   "execution_count": 1,
   "metadata": {},
   "outputs": [],
   "source": [
    "import plotly.graph_objects as go\n",
    "from ifsgen.viz.theme import dark_minimal_transparent, dark_minimal_black"
   ]
  },
  {
   "cell_type": "code",
   "execution_count": 2,
   "metadata": {},
   "outputs": [],
   "source": [
    "def v4d(\n",
    "    points,\n",
    "    width=480,\n",
    "    height=480,\n",
    "    save=None,\n",
    "    camera=dict(\n",
    "        up=dict(x=0, y=0, z=1), center=dict(x=0, y=0, z=0), eye=dict(x=0, y=2.5, z=0)\n",
    "    ),\n",
    "):\n",
    "    a, b, c, d = list(zip(*points))\n",
    "    fig = go.Figure(\n",
    "        data=[\n",
    "            go.Scatter3d(\n",
    "                x=d,\n",
    "                y=b,\n",
    "                z=c,\n",
    "                mode=\"markers\",\n",
    "                marker=dict(\n",
    "                    size=1.5,\n",
    "                    color=a,  # set color equal to a variable\n",
    "                    colorscale=\"Viridis\",  # one of plotly colorscales\n",
    "                    showscale=False,\n",
    "                    reversescale=True,\n",
    "                ),\n",
    "                hoverinfo=\"skip\",\n",
    "            )\n",
    "        ]\n",
    "    )\n",
    "    fig.update_layout(\n",
    "        template=dark_minimal_black,\n",
    "        autosize=False,\n",
    "        width=width,\n",
    "        height=height,\n",
    "        margin=dict(l=10, r=10, b=10, t=10, pad=0),\n",
    "    )\n",
    "    fig.update_layout(scene_camera=camera)\n",
    "    return fig\n",
    "    # if save is not None:\n",
    "    #     fig.write_html(save)\n",
    "    # else:\n",
    "    #     fig.show()"
   ]
  },
  {
   "cell_type": "code",
   "execution_count": 3,
   "metadata": {},
   "outputs": [],
   "source": [
    "import numpy as np\n",
    "import random\n",
    "from typing import Callable\n",
    "\n",
    "Point = np.ndarray\n",
    "Edge = np.ndarray\n",
    "Edges = list[Edge]\n",
    "PointHistory = list[Point]\n",
    "EdgeHistory = list[Edge]"
   ]
  },
  {
   "cell_type": "code",
   "execution_count": 4,
   "metadata": {},
   "outputs": [],
   "source": [
    "from numpy import sin, cos, tan, tanh, log, pow"
   ]
  },
  {
   "cell_type": "code",
   "execution_count": 5,
   "metadata": {},
   "outputs": [],
   "source": [
    "def string_to_function(function: str) -> Callable:\n",
    "    \"\"\"\n",
    "    ```python\n",
    "    equation = \"f(A, B) = (A + B)/2\"\n",
    "    function = string_to_function(equation)\n",
    "    x = function(A=3, B=5)\n",
    "    assert x == 4.0, \"this should pass\"\n",
    "    ```\n",
    "    \"\"\"\n",
    "    declaration, definition = function.split(\"=\")\n",
    "    declaration = declaration.strip()\n",
    "    definition = definition.strip()\n",
    "    assert declaration[0] == \"f\", \"function must start with `f`\"\n",
    "    assert declaration[1] == \"(\", \"function must start with `f(`\"\n",
    "    assert declaration[-1] == \")\", \"function declaration must end with `)`\"\n",
    "    parameter_string = declaration[2:-1]\n",
    "    lambda_declaration = \"\".join([\"lambda \", parameter_string, \": \"])\n",
    "    lambda_function = eval(f\"{lambda_declaration}{definition}\")\n",
    "    return lambda_function\n",
    "\n",
    "\n",
    "class BasicIFS:\n",
    "    def __init__(\n",
    "        self,\n",
    "        vertices: Edges,\n",
    "        midpoint: str | Callable[[Point, Point], Point],\n",
    "    ) -> None:\n",
    "        self.selector = lambda e: random.choice(e)\n",
    "        self.vertices = vertices\n",
    "        if isinstance(midpoint, str):\n",
    "            self.midpoint = string_to_function(midpoint)\n",
    "        else:\n",
    "            self.midpoint = midpoint\n",
    "\n",
    "    @property\n",
    "    def dimensions(self) -> int:\n",
    "        return len(self.vertices[0])\n",
    "\n",
    "    def run(\n",
    "        self,\n",
    "        iterations: int,\n",
    "        starting: Point | None = None,\n",
    "    ) -> list[Point]:\n",
    "        if starting is None:\n",
    "            starting = np.zeros(self.dimensions)\n",
    "        starting_dim = len(starting)\n",
    "        assert starting_dim == self.dimensions\n",
    "        point_history = list()\n",
    "        point_history.append(starting)\n",
    "        for iter in range(iterations):\n",
    "            last_point = point_history[iter]\n",
    "            edge_point = self.selector(self.vertices)\n",
    "            next_point = self.midpoint(last_point, edge_point)\n",
    "            point_history.append(next_point)\n",
    "        return point_history"
   ]
  },
  {
   "cell_type": "code",
   "execution_count": 6,
   "metadata": {},
   "outputs": [],
   "source": [
    "SIMPLEX = {\n",
    "    1: [np.array([-1]), np.array([1])],\n",
    "    2: [\n",
    "        np.array([-1 / 2, -np.sqrt(3) / 4]),\n",
    "        np.array([0, np.sqrt(3) / 4]),\n",
    "        np.array([1 / 2, -np.sqrt(3) / 4]),\n",
    "    ],\n",
    "    3: [\n",
    "        np.array([np.sqrt(8 / 9), 0, -1 / 3]),\n",
    "        np.array([-np.sqrt(2 / 9), np.sqrt(2 / 3), -1 / 3]),\n",
    "        np.array([-np.sqrt(2 / 9), -np.sqrt(2 / 3), -1 / 3]),\n",
    "        np.array([0, 0, 1]),\n",
    "    ],\n",
    "    4: [\n",
    "        np.array([1 / np.sqrt(10), 1 / np.sqrt(6), 1 / np.sqrt(3), 1]),\n",
    "        np.array([1 / np.sqrt(10), 1 / np.sqrt(6), 1 / np.sqrt(3), -1]),\n",
    "        np.array([1 / np.sqrt(10), 1 / np.sqrt(6), -2 / np.sqrt(3), 0]),\n",
    "        np.array([1 / np.sqrt(10), -np.sqrt(3 / 2), 0, 0]),\n",
    "        np.array([-2 * np.sqrt(2 / 5), 0, 0, 0]),\n",
    "    ],\n",
    "}"
   ]
  },
  {
   "cell_type": "code",
   "execution_count": 7,
   "metadata": {},
   "outputs": [],
   "source": [
    "def rotate_z(x: float, y: float, z: float, theta: float) -> tuple[float, float, float]:\n",
    "    \"\"\"\n",
    "    Takes current camera position and rotates on z-axis by theta.\n",
    "\n",
    "    See: https://community.plotly.com/t/rotating-3d-plots-with-plotly/34776/4\n",
    "    \"\"\"\n",
    "    w = x + 1j * y\n",
    "    return np.real(np.exp(1j * theta) * w), np.imag(np.exp(1j * theta) * w), z\n",
    "\n",
    "\n",
    "def rotate_x(x: float, y: float, z: float, theta: float) -> tuple[float, float, float]:\n",
    "    v = y + 1j * z\n",
    "    v_prime = np.exp(1j * theta) * v\n",
    "    y_new = np.real(v_prime)\n",
    "    z_new = np.imag(v_prime)\n",
    "    return x, y_new, z_new\n",
    "\n",
    "\n",
    "def rotate_y(x: float, y: float, z: float, theta: float) -> tuple[float, float, float]:\n",
    "    v = z + 1j * x\n",
    "    v_prime = np.exp(-1j * theta) * v\n",
    "    x_new = np.imag(v_prime)\n",
    "    z_new = np.real(v_prime)\n",
    "    return x_new, y, z_new"
   ]
  },
  {
   "cell_type": "code",
   "execution_count": 8,
   "metadata": {},
   "outputs": [],
   "source": [
    "x, y, z = 0, 2.5, 0\n",
    "# x, y, z = rotate_x(x, y, z, 0)\n",
    "# x, y, z = rotate_y(x, y, z, 0)\n",
    "x, y, z = rotate_z(x, y, z, 0.2)"
   ]
  },
  {
   "cell_type": "code",
   "execution_count": 9,
   "metadata": {},
   "outputs": [],
   "source": [
    "from tqdm import tqdm"
   ]
  },
  {
   "cell_type": "code",
   "execution_count": 10,
   "metadata": {},
   "outputs": [],
   "source": [
    "factor_array = np.linspace(0, 4.995, 1000).tolist()"
   ]
  },
  {
   "cell_type": "code",
   "execution_count": 13,
   "metadata": {},
   "outputs": [
    {
     "data": {
      "text/plain": [
       "[0.0, 0.005, 0.01, 0.015, 0.02, 0.025, 0.03, 0.035, 0.04, 0.045]"
      ]
     },
     "execution_count": 13,
     "metadata": {},
     "output_type": "execute_result"
    }
   ],
   "source": [
    "factor_array[:10]"
   ]
  },
  {
   "cell_type": "code",
   "execution_count": 11,
   "metadata": {},
   "outputs": [
    {
     "name": "stderr",
     "output_type": "stream",
     "text": [
      "1000it [25:31,  1.53s/it]\n"
     ]
    }
   ],
   "source": [
    "for index, value in tqdm(enumerate(factor_array)):\n",
    "    bi = BasicIFS(\n",
    "        vertices=SIMPLEX[4],\n",
    "        midpoint=f\"f(A, B) = sin(B - A) * {value}\",\n",
    "    )\n",
    "    points = bi.run(20000)\n",
    "    x, y, z = 0, 2.5, 0\n",
    "    x, y, z = rotate_z(x, y, z, value)\n",
    "    fig = v4d(points, camera=dict(eye=dict(x=x, y=y, z=z)))\n",
    "    fig.write_image(f\"img/{index}.png\")"
   ]
  },
  {
   "cell_type": "code",
   "execution_count": null,
   "metadata": {},
   "outputs": [],
   "source": []
  }
 ],
 "metadata": {
  "kernelspec": {
   "display_name": "ifsgen",
   "language": "python",
   "name": "python3"
  },
  "language_info": {
   "codemirror_mode": {
    "name": "ipython",
    "version": 3
   },
   "file_extension": ".py",
   "mimetype": "text/x-python",
   "name": "python",
   "nbconvert_exporter": "python",
   "pygments_lexer": "ipython3",
   "version": "3.11.10"
  }
 },
 "nbformat": 4,
 "nbformat_minor": 2
}
