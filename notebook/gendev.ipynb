{
 "cells": [
  {
   "cell_type": "code",
   "execution_count": 64,
   "metadata": {},
   "outputs": [],
   "source": [
    "\"\"\"\n",
    "- Contains a midpoint equation generation class\n",
    "- contains an operation handler class as a resource for midpoint generation class\n",
    "- Also contains a class to load a midpoint equation as a function,\n",
    "and\n",
    "\n",
    "? Include tanh function, what other operations can be included?\n",
    "\"\"\"\n",
    "\n",
    "import numpy as np\n",
    "from tqdm import tqdm\n",
    "from numpy import sin, cos, tan\n",
    "from math import log"
   ]
  },
  {
   "cell_type": "code",
   "execution_count": 4,
   "metadata": {},
   "outputs": [],
   "source": [
    "class OperationHandler:\n",
    "    def __init__(self, components: list[str], bias: list[float] = None) -> None:\n",
    "        if bias is not None:\n",
    "            assert len(components) == len(bias)\n",
    "        self.components = components\n",
    "        self.bias = bias\n",
    "        self.operations = {\n",
    "            \"add\": lambda components, bias: f\"({' + '.join([np.random.choice(components, p=bias), np.random.choice(components, p=bias)])})\",\n",
    "            \"subtract\": lambda components, bias: f\"({' - '.join([np.random.choice(components, p=bias), np.random.choice(components, p=bias)])})\",\n",
    "            \"multiply\": lambda components, bias: f\"({' * '.join([np.random.choice(components, p=bias), np.random.choice(components, p=bias)])})\",\n",
    "            \"divide\": lambda components, bias: f\"({' / '.join([np.random.choice(components, p=bias), np.random.choice(components, p=bias)])})\",\n",
    "            \"exponent\": lambda components, bias: f\"({' ** '.join([np.random.choice(components, p=bias), np.random.choice(components, p=bias)])})\",\n",
    "            \"logarithm\": lambda components, bias: f\"(log({np.random.choice(components, p=bias)}, {np.random.choice(components, p=bias)}))\",\n",
    "            \"sin\": lambda components, bias: f\"(sin({np.random.choice(components, p=bias)}))\",\n",
    "            \"cos\": lambda components, bias: f\"(cos({np.random.choice(components, p=bias)}))\",\n",
    "            \"tan\": lambda components, bias: f\"(tan({np.random.choice(components, p=bias)}))\",\n",
    "        }\n",
    "\n",
    "    def add(self):\n",
    "        return self.operations[\"add\"](self.components, self.bias)\n",
    "\n",
    "    def subtract(self):\n",
    "        return self.operations[\"subtract\"](self.components, self.bias)\n",
    "\n",
    "    def multiply(self):\n",
    "        return self.operations[\"multiply\"](self.components, self.bias)\n",
    "\n",
    "    def divide(self):\n",
    "        return self.operations[\"divide\"](self.components, self.bias)\n",
    "\n",
    "    def exponent(self):\n",
    "        return self.operations[\"exponent\"](self.components, self.bias)\n",
    "\n",
    "    def logarithm(self):\n",
    "        return self.operations[\"logarithm\"](self.components, self.bias)\n",
    "\n",
    "    def sin(self):\n",
    "        return self.operations[\"sin\"](self.components, self.bias)\n",
    "\n",
    "    def cos(self):\n",
    "        return self.operations[\"cos\"](self.components, self.bias)\n",
    "\n",
    "    def tan(self):\n",
    "        return self.operations[\"tan\"](self.components, self.bias)\n",
    "\n",
    "    def random(self):\n",
    "        return self.operations[np.random.choice(list(self.operations.keys()))](\n",
    "            self.components, self.bias\n",
    "        )"
   ]
  },
  {
   "cell_type": "code",
   "execution_count": 56,
   "metadata": {},
   "outputs": [
    {
     "data": {
      "text/plain": [
       "'(C + (A + B))'"
      ]
     },
     "execution_count": 56,
     "metadata": {},
     "output_type": "execute_result"
    }
   ],
   "source": [
    "oh = OperationHandler(components=[\"(A + B)\", \"B\", \"C\"], bias=[0.1, 0.4, 0.5])\n",
    "oh.add()"
   ]
  },
  {
   "cell_type": "code",
   "execution_count": 5,
   "metadata": {},
   "outputs": [],
   "source": [
    "class EquationGenerator:\n",
    "    def __init__(\n",
    "        self, params: list[str], bias: list[float], layers: list[int], n: int\n",
    "    ) -> None:\n",
    "        self.params = params\n",
    "        self.bias = bias\n",
    "        self.layers = layers\n",
    "        self.n = n\n",
    "        self.string_params = \", \".join(params)\n",
    "\n",
    "    def generate_list_of_components(\n",
    "        self, params: list[str], bias: list[float], n: int\n",
    "    ) -> list[str]:\n",
    "        op = OperationHandler(params, bias)\n",
    "        return [op.random() for _ in range(n)]\n",
    "\n",
    "    def generate_equation(\n",
    "        self, params: list[str], bias: list[float], layers: list[int]\n",
    "    ):\n",
    "        if layers[-1] != 1:\n",
    "            layers.append(1)\n",
    "        for i in layers:\n",
    "            params = self.generate_list_of_components(params, bias, i)\n",
    "            bias = None  # bias can only be applied on first round\n",
    "        equation = params[0]\n",
    "        equation = f\"f({self.string_params}) = {equation}\"\n",
    "        return equation\n",
    "\n",
    "    def generate_equations(\n",
    "        self, params: list[str], bias: list[float], layers: list[int], n: int\n",
    "    ):\n",
    "        return [self.generate_equation(params, bias, layers) for _ in tqdm(range(n))]\n",
    "\n",
    "    def run(self):\n",
    "        return self.generate_equations(self.params, self.bias, self.layers, self.n)"
   ]
  },
  {
   "cell_type": "code",
   "execution_count": null,
   "metadata": {},
   "outputs": [],
   "source": [
    "eg = EquationGenerator()"
   ]
  },
  {
   "cell_type": "code",
   "execution_count": 57,
   "metadata": {},
   "outputs": [],
   "source": [
    "class EquationLoader:\n",
    "    def __init__(self) -> None:\n",
    "        pass\n",
    "\n",
    "    def load(self, equation):\n",
    "        \"\"\"\n",
    "        example: \"f(A, B, x, y) = ((log((A ** A), (A + x))) / (log((A ** A), (A + x))))\"\n",
    "        \"\"\"\n",
    "        front, back = equation.split(\" = \")\n",
    "        string_params = front[2:-1]\n",
    "        func_lambda = \"\".join([\"lambda \", string_params, \": \"])\n",
    "        function = eval(f\"{func_lambda}{back}\")\n",
    "        variables = string_params.split(\", \")\n",
    "        return function, variables, equation"
   ]
  },
  {
   "cell_type": "code",
   "execution_count": 59,
   "metadata": {},
   "outputs": [],
   "source": [
    "el = EquationLoader()\n",
    "func, vars, eq = el.load(\"f(x, y) = (x + y) / 2\")"
   ]
  },
  {
   "cell_type": "code",
   "execution_count": 63,
   "metadata": {},
   "outputs": [
    {
     "data": {
      "text/plain": [
       "'f(x, y) = (x + y) / 2'"
      ]
     },
     "execution_count": 63,
     "metadata": {},
     "output_type": "execute_result"
    }
   ],
   "source": [
    "eq"
   ]
  },
  {
   "cell_type": "code",
   "execution_count": 61,
   "metadata": {},
   "outputs": [
    {
     "data": {
      "text/plain": [
       "3.5"
      ]
     },
     "execution_count": 61,
     "metadata": {},
     "output_type": "execute_result"
    }
   ],
   "source": [
    "func(3, 4)"
   ]
  },
  {
   "cell_type": "code",
   "execution_count": 3,
   "metadata": {},
   "outputs": [],
   "source": [
    "class Midpoint:\n",
    "    def __init__(self, function, variables, equation) -> None:\n",
    "        self.__validate(variables)\n",
    "        self.function = function\n",
    "        self.variables = variables\n",
    "        self.equation = equation\n",
    "\n",
    "    def __validate(self, variables):\n",
    "        assert len(set(variables).intersection({\"A\", \"B\"})) == 2\n",
    "\n",
    "    def set_params(self, **kwargs):\n",
    "        self.params = kwargs\n",
    "\n",
    "    def execute(self, A, B):\n",
    "        return self.function(A, B, **self.params)"
   ]
  },
  {
   "cell_type": "code",
   "execution_count": null,
   "metadata": {},
   "outputs": [],
   "source": []
  }
 ],
 "metadata": {
  "kernelspec": {
   "display_name": "ifsgen",
   "language": "python",
   "name": "python3"
  },
  "language_info": {
   "codemirror_mode": {
    "name": "ipython",
    "version": 3
   },
   "file_extension": ".py",
   "mimetype": "text/x-python",
   "name": "python",
   "nbconvert_exporter": "python",
   "pygments_lexer": "ipython3",
   "version": "3.11.10"
  }
 },
 "nbformat": 4,
 "nbformat_minor": 2
}
